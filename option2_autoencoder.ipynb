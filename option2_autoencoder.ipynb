{
 "cells": [
  {
   "cell_type": "markdown",
   "id": "6e081b43",
   "metadata": {},
   "source": [
    "# Demo 1: Simulación de un modelo de difusión\n",
    "\n",
    "En esta demo vamos a entender cómo funcionan los modelos de difusión a través de una simulación visual.\n",
    "\n",
    "El proceso tiene dos fases:\n",
    "1. **Forward process (difusión directa):** añadimos ruido gaussiano progresivamente hasta que la imagen queda irreconocible.\n",
    "2. **Reverse process (difusión inversa):** tratamos de limpiar ese ruido paso a paso.\n",
    "\n",
    "Haremos dos ejemplos:\n",
    "- Una imagen de ejemplo (astronauta) para verlo en fotos.\n",
    "- Un dígito de MNIST (28x28 px) para verlo de manera muy clara y simple.\n"
   ]
  },
  {
   "cell_type": "code",
   "execution_count": 1,
   "id": "42aa9fa2",
   "metadata": {},
   "outputs": [],
   "source": [
    "import numpy as np\n",
    "import matplotlib.pyplot as plt\n",
    "from skimage import data, color, img_as_float\n",
    "from scipy.ndimage import gaussian_filter\n",
    "\n",
    "# Función para añadir ruido\n",
    "def add_noise(img, t, T):\n",
    "    \"\"\"\n",
    "    Añade ruido gaussiano a la imagen en función del paso t.\n",
    "    - img: imagen base\n",
    "    - t: paso actual\n",
    "    - T: número total de pasos\n",
    "    \"\"\"\n",
    "    noise = np.random.normal(0, 1, img.shape)\n",
    "    alpha = 1 - (t / T)\n",
    "    return alpha * img + (1 - alpha) * noise\n"
   ]
  }
 ],
 "metadata": {
  "kernelspec": {
   "display_name": ".venv",
   "language": "python",
   "name": "python3"
  },
  "language_info": {
   "codemirror_mode": {
    "name": "ipython",
    "version": 3
   },
   "file_extension": ".py",
   "mimetype": "text/x-python",
   "name": "python",
   "nbconvert_exporter": "python",
   "pygments_lexer": "ipython3",
   "version": "3.12.4"
  }
 },
 "nbformat": 4,
 "nbformat_minor": 5
}
