{
 "cells": [
  {
   "cell_type": "markdown",
   "id": "3a601e8f",
   "metadata": {},
   "source": [
    "# Demo 1: Simulación de un modelo de difusión\n",
    "\n",
    "En esta primera demo vamos a entender de forma sencilla cómo funcionan los modelos de difusión.\n",
    "\n",
    "El proceso se divide en dos fases:\n",
    "1. **Forward process (difusión directa):** degradamos una imagen añadiendo ruido paso a paso hasta que queda irreconocible.\n",
    "2. **Reverse process (difusión inversa):** tratamos de limpiar ese ruido para recuperar la imagen.\n",
    "\n",
    "Aquí no vamos a entrenar una red neuronal como la U-Net, sino que haremos una versión simplificada para visualizar el concepto.\n"
   ]
  },
  {
   "cell_type": "code",
   "execution_count": null,
   "id": "cc59f625",
   "metadata": {},
   "outputs": [],
   "source": [
    "import numpy as np\n",
    "import matplotlib.pyplot as plt\n",
    "from skimage import data, color, img_as_float\n",
    "\n",
    "# Cargar una imagen simple en escala de grises\n",
    "image = color.rgb2gray(img_as_float(data.astronaut()))\n",
    "image = image[50:150, 50:150]  # recorte para simplificar\n",
    "\n",
    "plt.imshow(image, cmap=\"gray\")\n",
    "plt.title(\"Imagen original\")\n",
    "plt.axis(\"off\")\n",
    "plt.show()\n"
   ]
  }
 ],
 "metadata": {
  "kernelspec": {
   "display_name": ".venv",
   "language": "python",
   "name": "python3"
  },
  "language_info": {
   "name": "python",
   "version": "3.12.4"
  }
 },
 "nbformat": 4,
 "nbformat_minor": 5
}
